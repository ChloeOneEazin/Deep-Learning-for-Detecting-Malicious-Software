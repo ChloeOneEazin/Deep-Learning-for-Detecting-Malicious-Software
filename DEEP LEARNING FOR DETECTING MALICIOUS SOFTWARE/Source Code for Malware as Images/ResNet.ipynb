{
 "cells": [
  {
   "cell_type": "markdown",
   "id": "11c060df",
   "metadata": {},
   "source": [
    "Import Libraries"
   ]
  },
  {
   "cell_type": "code",
   "execution_count": null,
   "id": "40681190",
   "metadata": {},
   "outputs": [],
   "source": [
    "import os\n",
    "import time\n",
    "import numpy as np\n",
    "import matplotlib.pyplot as plt\n",
    "import tensorflow as tf\n",
    "from tensorflow.keras.layers import Flatten, Dense\n",
    "from tensorflow.keras.models import Model\n",
    "from tensorflow.keras.applications import ResNet50\n",
    "from tensorflow.keras.applications.resnet50 import preprocess_input as resnet_preprocess_input\n",
    "from sklearn.model_selection import train_test_split\n",
    "from sklearn.metrics import classification_report, confusion_matrix"
   ]
  },
  {
   "cell_type": "markdown",
   "id": "5239feae",
   "metadata": {},
   "source": [
    "Dataset Configuration"
   ]
  },
  {
   "cell_type": "code",
   "execution_count": null,
   "id": "bdb2f7a3",
   "metadata": {},
   "outputs": [],
   "source": [
    "source_dir = \"Malware as Images\"\n",
    "image_size = (224, 224)\n",
    "batch_size = 32\n",
    "epochs = 20\n",
    "classes = ['benign', 'malicious']"
   ]
  },
  {
   "cell_type": "markdown",
   "id": "505d40bc",
   "metadata": {},
   "source": [
    "Gather File Paths and Integer Labels"
   ]
  },
  {
   "cell_type": "code",
   "execution_count": null,
   "id": "7f278ba5",
   "metadata": {},
   "outputs": [],
   "source": [
    "file_paths, labels = [], []\n",
    "for label, cls in enumerate(classes):\n",
    "    cls_root = os.path.join(source_dir, cls)\n",
    "    for subfolder in os.listdir(cls_root):\n",
    "        subfolder_path = os.path.join(cls_root, subfolder)\n",
    "        if os.path.isdir(subfolder_path):\n",
    "            for fname in os.listdir(subfolder_path):\n",
    "                fpath = os.path.join(subfolder_path, fname)\n",
    "                if os.path.isfile(fpath):\n",
    "                    file_paths.append(fpath)\n",
    "                    labels.append(label)"
   ]
  },
  {
   "cell_type": "markdown",
   "id": "5190f530",
   "metadata": {},
   "source": [
    "Split Dataset"
   ]
  },
  {
   "cell_type": "code",
   "execution_count": null,
   "id": "83515884",
   "metadata": {},
   "outputs": [],
   "source": [
    "X_train, X_temp, y_train, y_temp = train_test_split(\n",
    "    file_paths, labels,\n",
    "    test_size=0.30,\n",
    "    stratify=labels,\n",
    "    random_state=42\n",
    ")\n",
    "X_val, X_test, y_val, y_test = train_test_split(\n",
    "    X_temp, y_temp,\n",
    "    test_size=0.50,\n",
    "    stratify=y_temp,\n",
    "    random_state=42\n",
    ")"
   ]
  },
  {
   "cell_type": "markdown",
   "id": "885c7715",
   "metadata": {},
   "source": [
    "TF-Data Pipeline"
   ]
  },
  {
   "cell_type": "code",
   "execution_count": null,
   "id": "ae7575d1",
   "metadata": {},
   "outputs": [],
   "source": [
    "def process_path(file_path, label):\n",
    "    img = tf.io.read_file(file_path)\n",
    "    img = tf.io.decode_jpeg(img, channels=3)\n",
    "    img = tf.image.resize(img, image_size)\n",
    "    img = resnet_preprocess_input(img)\n",
    "    label = tf.one_hot(label, depth=len(classes))\n",
    "    return img, label\n",
    "\n",
    "def make_dataset(X, y, shuffle=True):\n",
    "    ds = tf.data.Dataset.from_tensor_slices((X, y))\n",
    "    if shuffle:\n",
    "        ds = ds.shuffle(buffer_size=len(X))\n",
    "    return (\n",
    "        ds\n",
    "        .map(process_path, num_parallel_calls=tf.data.AUTOTUNE)\n",
    "        .batch(batch_size)\n",
    "        .prefetch(tf.data.AUTOTUNE)\n",
    "    )\n",
    "\n",
    "train_ds = make_dataset(X_train, y_train, shuffle=True).repeat()\n",
    "val_ds   = make_dataset(X_val,   y_val,   shuffle=False)\n",
    "test_ds  = make_dataset(X_test,  y_test,  shuffle=False)"
   ]
  },
  {
   "cell_type": "markdown",
   "id": "61026315",
   "metadata": {},
   "source": [
    "Build ResNet50 Model"
   ]
  },
  {
   "cell_type": "code",
   "execution_count": null,
   "id": "df29c13d",
   "metadata": {},
   "outputs": [],
   "source": [
    "def build_resnet50_model(num_classes, image_size=image_size):\n",
    "    backbone = ResNet50(\n",
    "        input_shape=(*image_size, 3),\n",
    "        include_top=False,\n",
    "        weights='imagenet'\n",
    "    )\n",
    "\n",
    "    x = backbone.output\n",
    "    x = Flatten()(x)\n",
    "    x = Dense(1000, activation=\"relu\")(x)\n",
    "    outputs = Dense(num_classes, activation=\"softmax\")(x)\n",
    "\n",
    "    model = Model(inputs=backbone.input, outputs=outputs)\n",
    "    model.compile(\n",
    "        optimizer='adam',\n",
    "        loss='categorical_crossentropy',\n",
    "        metrics=[\n",
    "            'accuracy',\n",
    "            tf.keras.metrics.AUC(name='auc'),\n",
    "            tf.keras.metrics.FalsePositives(name='false_positives'),\n",
    "            tf.keras.metrics.Precision(name='precision'),\n",
    "            tf.keras.metrics.Recall(name='recall'),\n",
    "        ]\n",
    "    )\n",
    "    return model\n",
    "\n",
    "model = build_resnet50_model(num_classes=len(classes))\n",
    "model.summary()\n"
   ]
  },
  {
   "cell_type": "markdown",
   "id": "41c19fe7",
   "metadata": {},
   "source": [
    "Model Training"
   ]
  },
  {
   "cell_type": "code",
   "execution_count": null,
   "id": "5c6a6c34",
   "metadata": {},
   "outputs": [],
   "source": [
    "os.makedirs('checkpoints', exist_ok=True)\n",
    "os.makedirs('models', exist_ok=True)\n",
    "\n",
    "checkpoint_cb = tf.keras.callbacks.ModelCheckpoint(\n",
    "    filepath='checkpoints/resnet50_malware_best.h5',\n",
    "    monitor='val_accuracy',\n",
    "    save_best_only=True,\n",
    "    verbose=1\n",
    ")\n",
    "\n",
    "history = model.fit(\n",
    "    train_ds,\n",
    "    epochs=epochs,\n",
    "    steps_per_epoch=len(X_train) // batch_size,\n",
    "    validation_data=val_ds,\n",
    "    callbacks=[checkpoint_cb]\n",
    ")\n",
    "\n",
    "model.save('models/resnet50_malware_final.h5')"
   ]
  },
  {
   "cell_type": "markdown",
   "id": "e2015675",
   "metadata": {},
   "source": [
    "Plot Training History"
   ]
  },
  {
   "cell_type": "code",
   "execution_count": null,
   "id": "6fe2d96c",
   "metadata": {},
   "outputs": [],
   "source": [
    "def plot_history(hist):\n",
    "    metrics = ['loss', 'accuracy', 'auc', 'false_positives', 'precision', 'recall']\n",
    "    fig, axes = plt.subplots(3, 2, figsize=(12, 12))\n",
    "    for idx, m in enumerate(metrics):\n",
    "        ax = axes[idx // 2, idx % 2]\n",
    "        ax.plot(hist.history[m], label='train')\n",
    "        ax.plot(hist.history[f'val_{m}'], label='val')\n",
    "        ax.set_title(m)\n",
    "        ax.set_xlabel('epoch')\n",
    "        ax.legend()\n",
    "    plt.tight_layout()\n",
    "    plt.show()\n",
    "\n",
    "plot_history(history)"
   ]
  },
  {
   "cell_type": "markdown",
   "id": "e2f60f1f",
   "metadata": {},
   "source": [
    "Model Validation"
   ]
  },
  {
   "cell_type": "code",
   "execution_count": null,
   "id": "9ce4cf6a",
   "metadata": {},
   "outputs": [],
   "source": [
    "val_metrics = model.evaluate(val_ds, verbose=1)\n",
    "print(\"\\nValidation set metrics:\")\n",
    "for name, value in zip(model.metrics_names, val_metrics):\n",
    "    print(f\" - {name}: {value:.4f}\")"
   ]
  },
  {
   "cell_type": "markdown",
   "id": "2a6bc542",
   "metadata": {},
   "source": [
    "Model Testing"
   ]
  },
  {
   "cell_type": "code",
   "execution_count": null,
   "id": "78e5ba7b",
   "metadata": {},
   "outputs": [],
   "source": [
    "start = time.time()\n",
    "preds = model.predict(test_ds)\n",
    "print(f\"\\nInference time on test set: {time.time() - start:.2f}s\")\n",
    "\n",
    "y_true = np.argmax(\n",
    "    np.vstack([y for _, y in test_ds.unbatch()]), axis=1\n",
    ")\n",
    "y_pred = np.argmax(preds, axis=1)\n",
    "\n",
    "print(\"\\nClassification Report:\\n\")\n",
    "print(classification_report(y_true, y_pred, target_names=classes))\n"
   ]
  },
  {
   "cell_type": "markdown",
   "id": "528c6eb8",
   "metadata": {},
   "source": [
    "Model Evaluation"
   ]
  },
  {
   "cell_type": "code",
   "execution_count": null,
   "id": "43f26f8b",
   "metadata": {},
   "outputs": [],
   "source": [
    "cm = confusion_matrix(y_true, y_pred)\n",
    "plt.figure(figsize=(8, 6))\n",
    "plt.title('Confusion Matrix Heatmap')\n",
    "plt.imshow(cm, interpolation='nearest', aspect='auto')\n",
    "plt.xlabel('Predicted')\n",
    "plt.ylabel('Actual')\n",
    "plt.colorbar(fraction=0.046, pad=0.04)\n",
    "\n",
    "tick_marks = np.arange(len(classes))\n",
    "plt.xticks(tick_marks, classes, rotation=45, ha='right')\n",
    "plt.yticks(tick_marks, classes)\n",
    "\n",
    "thresh = cm.max() / 2\n",
    "for i, j in np.ndindex(cm.shape):\n",
    "    plt.text(\n",
    "        j, i, f\"{cm[i, j]:d}\",\n",
    "        ha='center', va='center',\n",
    "        color='white' if cm[i, j] > thresh else 'black'\n",
    "    )\n",
    "\n",
    "plt.tight_layout()\n",
    "plt.show()"
   ]
  }
 ],
 "metadata": {
  "language_info": {
   "name": "python"
  }
 },
 "nbformat": 4,
 "nbformat_minor": 5
}
