{
 "cells": [
  {
   "cell_type": "markdown",
   "id": "c82b6def",
   "metadata": {},
   "source": [
    "Import Libraries"
   ]
  },
  {
   "cell_type": "code",
   "execution_count": null,
   "id": "c861ad87",
   "metadata": {},
   "outputs": [],
   "source": [
    "import os\n",
    "import time\n",
    "import numpy as np\n",
    "import matplotlib.pyplot as plt\n",
    "import tensorflow as tf\n",
    "from tensorflow.keras.layers import Flatten, Dense, Layer, Lambda\n",
    "from tensorflow.keras.models import Model\n",
    "from tensorflow.keras.callbacks import ModelCheckpoint\n",
    "from sklearn.model_selection import train_test_split\n",
    "from sklearn.metrics import classification_report, confusion_matrix\n",
    "from vit_keras import vit"
   ]
  },
  {
   "cell_type": "markdown",
   "id": "6d0a8464",
   "metadata": {},
   "source": [
    "Dataset Configuration and Class Labels"
   ]
  },
  {
   "cell_type": "code",
   "execution_count": null,
   "id": "d4be00f9",
   "metadata": {},
   "outputs": [],
   "source": [
    "source_dir = \"Malware as Images\"\n",
    "image_size = (224, 224)\n",
    "batch_size = 32\n",
    "epochs = 20"
   ]
  },
  {
   "cell_type": "markdown",
   "id": "2c9300b0",
   "metadata": {},
   "source": [
    "Gather File Paths and Integer Labels"
   ]
  },
  {
   "cell_type": "code",
   "execution_count": null,
   "id": "e3c8eb32",
   "metadata": {},
   "outputs": [],
   "source": [
    "file_paths, labels = [], []\n",
    "for label, category in enumerate(['benign', 'malicious']):\n",
    "    category_dir = os.path.join(source_dir, category)\n",
    "    for subdir, _, files in os.walk(category_dir):\n",
    "        for fname in files:\n",
    "            fpath = os.path.join(subdir, fname)\n",
    "            if os.path.isfile(fpath):\n",
    "                file_paths.append(fpath)\n",
    "                labels.append(label)"
   ]
  },
  {
   "cell_type": "markdown",
   "id": "2ba0bb87",
   "metadata": {},
   "source": [
    "Split Dataset"
   ]
  },
  {
   "cell_type": "code",
   "execution_count": null,
   "id": "55c31643",
   "metadata": {},
   "outputs": [],
   "source": [
    "X_train, X_temp, y_train, y_temp = train_test_split(file_paths, labels, test_size=0.30, stratify=labels, random_state=42)\n",
    "X_val, X_test, y_val, y_test = train_test_split(X_temp, y_temp, test_size=0.50, stratify=y_temp, random_state=42)"
   ]
  },
  {
   "cell_type": "markdown",
   "id": "986d70b8",
   "metadata": {},
   "source": [
    "TF-Data Pipeline"
   ]
  },
  {
   "cell_type": "code",
   "execution_count": null,
   "id": "cdfd9970",
   "metadata": {},
   "outputs": [],
   "source": [
    "def process_path(file_path, label):\n",
    "    img = tf.io.decode_jpeg(tf.io.read_file(file_path), channels=3)\n",
    "    img = tf.image.resize(img, image_size)\n",
    "    img = tf.keras.applications.imagenet_utils.preprocess_input(img)\n",
    "    label = tf.one_hot(label, depth=2)\n",
    "    return img, label\n",
    "\n",
    "def make_dataset(X, y, shuffle=True):\n",
    "    ds = tf.data.Dataset.from_tensor_slices((X, y))\n",
    "    if shuffle:\n",
    "        ds = ds.shuffle(buffer_size=len(X))\n",
    "    return (\n",
    "        ds.map(process_path, num_parallel_calls=tf.data.AUTOTUNE)\n",
    "          .batch(batch_size)\n",
    "          .prefetch(tf.data.AUTOTUNE)\n",
    "    )\n",
    "\n",
    "train_ds = make_dataset(X_train, y_train, shuffle=True)\n",
    "val_ds = make_dataset(X_val, y_val, shuffle=False)\n",
    "test_ds = make_dataset(X_test, y_test, shuffle=False)"
   ]
  },
  {
   "cell_type": "markdown",
   "id": "03c07ce9",
   "metadata": {},
   "source": [
    "Spatial Aggregation Vector Encoding (SAVE) Layer"
   ]
  },
  {
   "cell_type": "code",
   "execution_count": null,
   "id": "b1da6ffb",
   "metadata": {},
   "outputs": [],
   "source": [
    "class SpatialAggregationLayer(Layer):\n",
    "    def __init__(self, **kwargs):\n",
    "        super().__init__(**kwargs)\n",
    "\n",
    "    def build(self, input_shape):\n",
    "        self.alpha_top    = self.add_weight('alpha_top',    (1,), initializer='ones')\n",
    "        self.alpha_bottom = self.add_weight('alpha_bottom', (1,), initializer='ones')\n",
    "        self.alpha_left   = self.add_weight('alpha_left',   (1,), initializer='ones')\n",
    "        self.alpha_right  = self.add_weight('alpha_right',  (1,), initializer='ones')\n",
    "        super().build(input_shape)\n",
    "\n",
    "    def call(self, inputs):\n",
    "        t = tf.roll(inputs, -1, axis=1)\n",
    "        b = tf.roll(inputs,  1, axis=1)\n",
    "        l = tf.roll(inputs, -1, axis=2)\n",
    "        r = tf.roll(inputs,  1, axis=2)\n",
    "        return inputs + self.alpha_top * t + self.alpha_bottom * b + self.alpha_left * l + self.alpha_right * r"
   ]
  },
  {
   "cell_type": "markdown",
   "id": "7406873f",
   "metadata": {},
   "source": [
    "Build Xception Model with SAVE"
   ]
  },
  {
   "cell_type": "code",
   "execution_count": null,
   "id": "9279d7fa",
   "metadata": {},
   "outputs": [],
   "source": [
    "def build_deit_model(num_classes=2, image_size=image_size, patch_size=16):\n",
    "    backbone = vit.vit_b16(\n",
    "        image_size=image_size,\n",
    "        pretrained=True,\n",
    "        include_top=False,\n",
    "        pretrained_top=False\n",
    "    )\n",
    "\n",
    "    seq_output = backbone.get_layer(\"Transformer/encoder_norm\").output\n",
    "    seq_model = Model(inputs=backbone.input, outputs=seq_output)\n",
    "\n",
    "    def fold_patches(x):\n",
    "        patch_tokens = x[:, 1:, :]\n",
    "        return tf.reshape(\n",
    "            patch_tokens,\n",
    "            (-1, image_size[0]//patch_size, image_size[1]//patch_size, x.shape[-1])\n",
    "        )\n",
    "\n",
    "    x = Lambda(fold_patches, name=\"fold_patches\")(seq_model.output)\n",
    "    x = SpatialAggregationLayer()(x)\n",
    "    x = Flatten()(x)\n",
    "    x = Dense(1000, activation=\"relu\")(x)\n",
    "    outputs = Dense(num_classes, activation=\"softmax\")(x)\n",
    "\n",
    "    model = Model(inputs=seq_model.input, outputs=outputs)\n",
    "    model.compile(\n",
    "        optimizer='adam',\n",
    "        loss='categorical_crossentropy',\n",
    "        metrics=['accuracy', tf.keras.metrics.AUC(name='auc'),\n",
    "                 tf.keras.metrics.FalsePositives(name='false_positives'),\n",
    "                 tf.keras.metrics.Precision(name='precision'),\n",
    "                 tf.keras.metrics.Recall(name='recall')]\n",
    "    )\n",
    "    return model\n",
    "\n",
    "model = build_deit_model()\n",
    "model.summary()\n",
    "\n",
    "os.makedirs('checkpoints', exist_ok=True)\n",
    "os.makedirs('models', exist_ok=True)\n",
    "\n",
    "checkpoint_cb = ModelCheckpoint(\n",
    "    filepath='checkpoints/vit_malware_best.h5',\n",
    "    monitor='val_accuracy',\n",
    "    save_best_only=True,\n",
    "    verbose=1\n",
    ")\n",
    "\n",
    "train_ds_inf = make_dataset(X_train, y_train, shuffle=True).repeat()"
   ]
  },
  {
   "cell_type": "markdown",
   "id": "d33b9775",
   "metadata": {},
   "source": [
    "Model Training"
   ]
  },
  {
   "cell_type": "code",
   "execution_count": null,
   "id": "1f9b7eda",
   "metadata": {},
   "outputs": [],
   "source": [
    "history = model.fit(\n",
    "    train_ds_inf,\n",
    "    epochs=epochs,\n",
    "    steps_per_epoch=80,\n",
    "    validation_data=val_ds,\n",
    "    callbacks=[checkpoint_cb]\n",
    ")\n",
    "\n",
    "model.save('models/vit_malware_final.h5')\n"
   ]
  },
  {
   "cell_type": "markdown",
   "id": "b54a0c0b",
   "metadata": {},
   "source": [
    "Plot Training History"
   ]
  },
  {
   "cell_type": "code",
   "execution_count": null,
   "id": "cb1c68df",
   "metadata": {},
   "outputs": [],
   "source": [
    "def plot_history(hist):\n",
    "    metrics = ['loss', 'accuracy', 'auc', 'false_positives', 'precision', 'recall']\n",
    "    fig, axes = plt.subplots(3, 2, figsize=(12, 12))\n",
    "    for idx, m in enumerate(metrics):\n",
    "        ax = axes[idx // 2, idx % 2]\n",
    "        ax.plot(hist.history[m], label='train')\n",
    "        ax.plot(hist.history[f'val_{m}'], label='val')\n",
    "        ax.set_title(m)\n",
    "        ax.set_xlabel('epoch')\n",
    "        ax.legend()\n",
    "    plt.tight_layout()\n",
    "    plt.show()\n",
    "\n",
    "plot_history(history)"
   ]
  },
  {
   "cell_type": "markdown",
   "id": "3a453041",
   "metadata": {},
   "source": [
    "Model Validation"
   ]
  },
  {
   "cell_type": "code",
   "execution_count": null,
   "id": "fe9ab723",
   "metadata": {},
   "outputs": [],
   "source": [
    "val_metrics = model.evaluate(val_ds, verbose=1)\n",
    "print(\"\\nValidation set metrics:\")\n",
    "for name, value in zip(model.metrics_names, val_metrics):\n",
    "    print(f\" - {name}: {value:.4f}\")\n"
   ]
  },
  {
   "cell_type": "markdown",
   "id": "faa2528f",
   "metadata": {},
   "source": [
    "Model Testing"
   ]
  },
  {
   "cell_type": "code",
   "execution_count": null,
   "id": "1368e06b",
   "metadata": {},
   "outputs": [],
   "source": [
    "start = time.time()\n",
    "preds = model.predict(test_ds)\n",
    "print(f\"\\nInference time on test set: {time.time() - start:.2f}s\")\n",
    "\n",
    "y_true = np.argmax(np.vstack([y for _, y in test_ds.unbatch()]), axis=1)\n",
    "y_pred = np.argmax(preds, axis=1)\n",
    "\n",
    "print(\"\\nClassification Report:\\n\")\n",
    "print(classification_report(y_true, y_pred, target_names=['benign', 'malicious']))"
   ]
  },
  {
   "cell_type": "markdown",
   "id": "a4941913",
   "metadata": {},
   "source": [
    "Confusion Matrix"
   ]
  },
  {
   "cell_type": "code",
   "execution_count": null,
   "id": "9237607b",
   "metadata": {},
   "outputs": [],
   "source": [
    "cm = confusion_matrix(y_true, y_pred)\n",
    "plt.figure(figsize=(8, 6))\n",
    "plt.title('Confusion Matrix Heatmap')\n",
    "plt.imshow(cm, interpolation='nearest', aspect='auto')\n",
    "plt.xlabel('Predicted')\n",
    "plt.ylabel('Actual')\n",
    "plt.colorbar(fraction=0.046, pad=0.04)\n",
    "\n",
    "tick_marks = np.arange(2)\n",
    "plt.xticks(tick_marks, ['benign', 'malicious'], rotation=45, ha='right')\n",
    "plt.yticks(tick_marks, ['benign', 'malicious'])\n",
    "\n",
    "thresh = cm.max() / 2\n",
    "for i, j in np.ndindex(cm.shape):\n",
    "    plt.text(j, i, f\"{cm[i, j]:d}\", ha='center', va='center',\n",
    "             color='white' if cm[i, j] > thresh else 'black')\n",
    "\n",
    "plt.tight_layout()\n",
    "plt.show()"
   ]
  }
 ],
 "metadata": {
  "kernelspec": {
   "display_name": "base",
   "language": "python",
   "name": "python3"
  },
  "language_info": {
   "name": "python",
   "version": "3.11.7"
  }
 },
 "nbformat": 4,
 "nbformat_minor": 5
}
