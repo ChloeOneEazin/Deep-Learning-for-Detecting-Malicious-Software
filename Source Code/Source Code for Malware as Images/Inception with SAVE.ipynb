{
 "cells": [
  {
   "cell_type": "markdown",
   "id": "da75b2c6",
   "metadata": {},
   "source": [
    "Import Libraries"
   ]
  },
  {
   "cell_type": "code",
   "execution_count": null,
   "id": "489663d5",
   "metadata": {},
   "outputs": [],
   "source": [
    "import os\n",
    "import time\n",
    "import numpy as np\n",
    "import matplotlib.pyplot as plt\n",
    "import tensorflow as tf\n",
    "from tensorflow.keras.layers import Flatten, Dense, Layer\n",
    "from tensorflow.keras.models import Model\n",
    "from tensorflow.keras.applications import InceptionV3\n",
    "from tensorflow.keras.applications.inception_v3 import preprocess_input\n",
    "from sklearn.model_selection import train_test_split\n",
    "from sklearn.metrics import classification_report, confusion_matrix"
   ]
  },
  {
   "cell_type": "markdown",
   "id": "9a6f84a0",
   "metadata": {},
   "source": [
    "Dataset Configuration"
   ]
  },
  {
   "cell_type": "code",
   "execution_count": null,
   "id": "2330aff3",
   "metadata": {},
   "outputs": [],
   "source": [
    "source_dir = \"Malware as Images\"\n",
    "image_size = (299, 299) \n",
    "batch_size = 32\n",
    "epochs = 20\n",
    "\n",
    "# Class labels \n",
    "classes = ['benign', 'malicious']\n",
    "class_to_label = {cls: idx for idx, cls in enumerate(classes)}"
   ]
  },
  {
   "cell_type": "markdown",
   "id": "976088c7",
   "metadata": {},
   "source": [
    "Gather File Paths and Integer Labels"
   ]
  },
  {
   "cell_type": "code",
   "execution_count": null,
   "id": "c2895c60",
   "metadata": {},
   "outputs": [],
   "source": [
    "file_paths, labels = [], []\n",
    "for cls in classes:\n",
    "    class_dir = os.path.join(source_dir, cls)\n",
    "    for method_folder in os.listdir(class_dir):\n",
    "        method_dir = os.path.join(class_dir, method_folder)\n",
    "        if os.path.isdir(method_dir):\n",
    "            for fname in os.listdir(method_dir):\n",
    "                fpath = os.path.join(method_dir, fname)\n",
    "                if os.path.isfile(fpath):\n",
    "                    file_paths.append(fpath)\n",
    "                    labels.append(class_to_label[cls])"
   ]
  },
  {
   "cell_type": "markdown",
   "id": "8d01132b",
   "metadata": {},
   "source": [
    "Split Dataset"
   ]
  },
  {
   "cell_type": "code",
   "execution_count": null,
   "id": "13c9e5c3",
   "metadata": {},
   "outputs": [],
   "source": [
    "X_train, X_temp, y_train, y_temp = train_test_split(\n",
    "    file_paths, labels,\n",
    "    test_size=0.30,\n",
    "    stratify=labels,\n",
    "    random_state=42\n",
    ")\n",
    "X_val, X_test, y_val, y_test = train_test_split(\n",
    "    X_temp, y_temp,\n",
    "    test_size=0.50,\n",
    "    stratify=y_temp,\n",
    "    random_state=42\n",
    ")"
   ]
  },
  {
   "cell_type": "markdown",
   "id": "060410c0",
   "metadata": {},
   "source": [
    "TF-Data Pipeline"
   ]
  },
  {
   "cell_type": "code",
   "execution_count": null,
   "id": "434394b6",
   "metadata": {},
   "outputs": [],
   "source": [
    "def process_path(file_path, label):\n",
    "    img = tf.io.read_file(file_path)\n",
    "    img = tf.io.decode_jpeg(img, channels=3)\n",
    "    img = tf.image.resize(img, image_size)\n",
    "    img = preprocess_input(img)\n",
    "    label = tf.one_hot(label, depth=len(classes))\n",
    "    return img, label\n",
    "\n",
    "def make_dataset(X, y, shuffle=True):\n",
    "    ds = tf.data.Dataset.from_tensor_slices((X, y))\n",
    "    if shuffle:\n",
    "        ds = ds.shuffle(buffer_size=len(X))\n",
    "    return (\n",
    "        ds\n",
    "        .map(process_path, num_parallel_calls=tf.data.AUTOTUNE)\n",
    "        .batch(batch_size)\n",
    "        .prefetch(tf.data.AUTOTUNE)\n",
    "    )\n",
    "\n",
    "train_ds = make_dataset(X_train, y_train, shuffle=True).repeat()\n",
    "val_ds   = make_dataset(X_val,   y_val,   shuffle=False)\n",
    "test_ds  = make_dataset(X_test,  y_test,  shuffle=False)"
   ]
  },
  {
   "cell_type": "markdown",
   "id": "725e9f6d",
   "metadata": {},
   "source": [
    "Spatial Aggregation Vector Encoding (SAVE) Layer"
   ]
  },
  {
   "cell_type": "code",
   "execution_count": null,
   "id": "3aaf6f63",
   "metadata": {},
   "outputs": [],
   "source": [
    "class SpatialAggregationLayer(Layer):\n",
    "    def __init__(self, **kwargs):\n",
    "        super().__init__(**kwargs)\n",
    "\n",
    "    def build(self, input_shape):\n",
    "        self.alpha_top    = self.add_weight('alpha_top',    (1,), initializer='ones')\n",
    "        self.alpha_bottom = self.add_weight('alpha_bottom', (1,), initializer='ones')\n",
    "        self.alpha_left   = self.add_weight('alpha_left',   (1,), initializer='ones')\n",
    "        self.alpha_right  = self.add_weight('alpha_right',  (1,), initializer='ones')\n",
    "        super().build(input_shape)\n",
    "\n",
    "    def call(self, inputs):\n",
    "        t = tf.roll(inputs, -1, axis=1)\n",
    "        b = tf.roll(inputs,  1, axis=1)\n",
    "        l = tf.roll(inputs, -1, axis=2)\n",
    "        r = tf.roll(inputs,  1, axis=2)\n",
    "        return inputs \\\n",
    "            + self.alpha_top    * t \\\n",
    "            + self.alpha_bottom * b \\\n",
    "            + self.alpha_left   * l \\\n",
    "            + self.alpha_right  * r\n"
   ]
  },
  {
   "cell_type": "markdown",
   "id": "7e928c1b",
   "metadata": {},
   "source": [
    "Build InceptionV3 Model with SAVE"
   ]
  },
  {
   "cell_type": "code",
   "execution_count": null,
   "id": "38987186",
   "metadata": {},
   "outputs": [],
   "source": [
    "def build_inceptionv3_model(num_classes, image_size=image_size):\n",
    "    backbone = InceptionV3(\n",
    "        input_shape=(*image_size, 3),\n",
    "        include_top=False,\n",
    "        weights='imagenet'\n",
    "    )\n",
    "\n",
    "    x = backbone.output\n",
    "    x = SpatialAggregationLayer()(x)\n",
    "    x = Flatten()(x)\n",
    "    x = Dense(1000, activation=\"relu\")(x)\n",
    "    outputs = Dense(num_classes, activation=\"softmax\")(x)\n",
    "\n",
    "    model = Model(inputs=backbone.input, outputs=outputs)\n",
    "    model.compile(\n",
    "        optimizer='adam',\n",
    "        loss='categorical_crossentropy',\n",
    "        metrics=[\n",
    "            'accuracy',\n",
    "            tf.keras.metrics.AUC(name='auc'),\n",
    "            tf.keras.metrics.FalsePositives(name='false_positives'),\n",
    "            tf.keras.metrics.Precision(name='precision'),\n",
    "            tf.keras.metrics.Recall(name='recall'),\n",
    "        ]\n",
    "    )\n",
    "    return model\n",
    "\n",
    "model = build_inceptionv3_model(num_classes=len(classes))\n",
    "model.summary()"
   ]
  },
  {
   "cell_type": "markdown",
   "id": "18a7ea7c",
   "metadata": {},
   "source": [
    "Model Training"
   ]
  },
  {
   "cell_type": "code",
   "execution_count": null,
   "id": "10c934e6",
   "metadata": {},
   "outputs": [],
   "source": [
    "os.makedirs('checkpoints', exist_ok=True)\n",
    "os.makedirs('models', exist_ok=True)\n",
    "\n",
    "checkpoint_cb = tf.keras.callbacks.ModelCheckpoint(\n",
    "    filepath='checkpoints/inceptionv3_malware_best.h5',\n",
    "    monitor='val_accuracy',\n",
    "    save_best_only=True,\n",
    "    verbose=1\n",
    ")\n",
    "\n",
    "history = model.fit(\n",
    "    train_ds,\n",
    "    epochs=epochs,\n",
    "    steps_per_epoch=len(X_train) // batch_size,\n",
    "    validation_data=val_ds,\n",
    "    callbacks=[checkpoint_cb]\n",
    ")\n",
    "\n",
    "model.save('models/inceptionv3_malware_final.h5')"
   ]
  },
  {
   "cell_type": "markdown",
   "id": "2d18ba36",
   "metadata": {},
   "source": [
    "Plot Training History"
   ]
  },
  {
   "cell_type": "code",
   "execution_count": null,
   "id": "a57a1abc",
   "metadata": {},
   "outputs": [],
   "source": [
    "def plot_history(hist):\n",
    "    metrics = ['loss', 'accuracy', 'auc', 'false_positives', 'precision', 'recall']\n",
    "    fig, axes = plt.subplots(3, 2, figsize=(12, 12))\n",
    "    for idx, m in enumerate(metrics):\n",
    "        ax = axes[idx // 2, idx % 2]\n",
    "        ax.plot(hist.history[m], label='train')\n",
    "        ax.plot(hist.history[f'val_{m}'], label='val')\n",
    "        ax.set_title(m)\n",
    "        ax.set_xlabel('epoch')\n",
    "        ax.legend()\n",
    "    plt.tight_layout()\n",
    "    plt.show()\n",
    "\n",
    "plot_history(history)"
   ]
  },
  {
   "cell_type": "markdown",
   "id": "8f30cb88",
   "metadata": {},
   "source": [
    "Model Validation"
   ]
  },
  {
   "cell_type": "code",
   "execution_count": null,
   "id": "b9625d7a",
   "metadata": {},
   "outputs": [],
   "source": [
    "val_metrics = model.evaluate(val_ds, verbose=1)\n",
    "print(\"\\nValidation set metrics:\")\n",
    "for name, value in zip(model.metrics_names, val_metrics):\n",
    "    print(f\" - {name}: {value:.4f}\")"
   ]
  },
  {
   "cell_type": "markdown",
   "id": "f5e0dfda",
   "metadata": {},
   "source": [
    "Model Testing"
   ]
  },
  {
   "cell_type": "code",
   "execution_count": null,
   "id": "91f9f6d2",
   "metadata": {},
   "outputs": [],
   "source": [
    "start = time.time()\n",
    "preds = model.predict(test_ds)\n",
    "print(f\"\\nInference time on test set: {time.time() - start:.2f}s\")\n",
    "\n",
    "y_true = np.argmax(\n",
    "    np.vstack([y for _, y in test_ds.unbatch()]), axis=1\n",
    ")\n",
    "y_pred = np.argmax(preds, axis=1)\n",
    "\n",
    "print(\"\\nClassification Report:\\n\")\n",
    "print(classification_report(y_true, y_pred, target_names=classes))"
   ]
  },
  {
   "cell_type": "markdown",
   "id": "a4817df7",
   "metadata": {},
   "source": [
    "Confusion Matrix"
   ]
  },
  {
   "cell_type": "code",
   "execution_count": null,
   "id": "cbb6e1a4",
   "metadata": {},
   "outputs": [],
   "source": [
    "cm = confusion_matrix(y_true, y_pred)\n",
    "plt.figure(figsize=(8, 6))\n",
    "plt.title('Confusion Matrix Heatmap')\n",
    "plt.imshow(cm, interpolation='nearest', aspect='auto')\n",
    "plt.xlabel('Predicted')\n",
    "plt.ylabel('Actual')\n",
    "plt.colorbar(fraction=0.046, pad=0.04)\n",
    "\n",
    "tick_marks = np.arange(len(classes))\n",
    "plt.xticks(tick_marks, classes, rotation=45, ha='right')\n",
    "plt.yticks(tick_marks, classes)\n",
    "\n",
    "thresh = cm.max() / 2\n",
    "for i, j in np.ndindex(cm.shape):\n",
    "    plt.text(\n",
    "        j, i, f\"{cm[i, j]:d}\",\n",
    "        ha='center', va='center',\n",
    "        color='white' if cm[i, j] > thresh else 'black'\n",
    "    )\n",
    "\n",
    "plt.tight_layout()\n",
    "plt.show()"
   ]
  }
 ],
 "metadata": {
  "language_info": {
   "name": "python"
  }
 },
 "nbformat": 4,
 "nbformat_minor": 5
}
